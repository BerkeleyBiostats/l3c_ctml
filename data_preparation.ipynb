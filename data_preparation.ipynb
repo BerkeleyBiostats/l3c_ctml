{
 "cells": [
  {
   "cell_type": "code",
   "execution_count": 1,
   "metadata": {
    "scrolled": true
   },
   "outputs": [
    {
     "data": {
      "text/plain": [
       "'/Users/seraphinashi/Desktop/l3c_ctml'"
      ]
     },
     "execution_count": 1,
     "metadata": {},
     "output_type": "execute_result"
    }
   ],
   "source": [
    "# Verify we're in the correct working directory\n",
    "import os\n",
    "os.getcwd()   "
   ]
  },
  {
   "cell_type": "code",
   "execution_count": 2,
   "metadata": {},
   "outputs": [],
   "source": [
    "# pip install -r requirements.txt"
   ]
  },
  {
   "cell_type": "code",
   "execution_count": 3,
   "metadata": {},
   "outputs": [],
   "source": [
    "from src.STEP1_feature import a_cohort as a\n",
    "from src.STEP1_feature import b_medication as b\n",
    "from src.STEP1_feature import c_diagnosis as c\n",
    "from src.STEP1_feature import d_lab_measures as d\n",
    "from src.STEP1_feature import e_comorbidity as e\n",
    "from src.STEP1_feature import i_combine_synthetic_data as i\n",
    "import os\n",
    "from pyspark.sql import SparkSession\n",
    "from pyspark.sql import SparkSession\n",
    "from pyspark.sql.types import StructType,StructField, StringType"
   ]
  },
  {
   "cell_type": "code",
   "execution_count": 4,
   "metadata": {},
   "outputs": [
    {
     "name": "stdout",
     "output_type": "stream",
     "text": [
      "synthetic_data/training/observation_period.csv\n",
      "synthetic_data/training/drug_exposure.csv\n",
      "synthetic_data/training/death.csv\n",
      "synthetic_data/training/concept.csv\n",
      "synthetic_data/training/measurement.csv\n",
      "synthetic_data/training/condition_occurrence.csv\n",
      "synthetic_data/training/microvisits_to_macrovisits.csv\n",
      "synthetic_data/training/visit_occurrence.csv\n",
      "synthetic_data/training/long_covid_silver_standard.csv\n",
      "synthetic_data/training/person.csv\n",
      "synthetic_data/training/observation.csv\n",
      "synthetic_data/training/procedure_occurrence.csv\n"
     ]
    }
   ],
   "source": [
    "spark = SparkSession.builder \\\n",
    "        .master(\"local[1]\") \\\n",
    "        .appName(\"l3c_ctml\") \\\n",
    "        .getOrCreate()\n",
    "\n",
    "# Read CSV file into table\n",
    "data_path = \"synthetic_data/training\"\n",
    "\n",
    "schema = StructType([\n",
    "    StructField('table', StringType(), True),\n",
    "    StructField('field', StringType(), True),\n",
    "    StructField('type', StringType(), True)\n",
    "])\n",
    "\n",
    "all_fields = spark.createDataFrame([], schema)\n",
    "    \n",
    "for path, subdirs, files in os.walk(data_path):\n",
    "    for name in files:\n",
    "        if \"csv\" in name and name[0]!=\".\":\n",
    "            # table_fields = [(table_name, f.name, str(f.dataType)) for f in datafile.schema.fields]\n",
    "            full_file = (os.path.join(path, name))\n",
    "            df = spark.read.csv(os.path.join(path, name), header=True, inferSchema=True)\n",
    "            var_name = name[:-4]\n",
    "            print(full_file)\n",
    "            globals()[var_name] = df"
   ]
  },
  {
   "cell_type": "code",
   "execution_count": 5,
   "metadata": {},
   "outputs": [],
   "source": [
    "# 1_cohort_and_features\n",
    "\n",
    "covid_pasc_index_dates = a.sql_statement_01(long_covid_silver_standard)\n",
    "cohort = a.sql_statement_00(covid_pasc_index_dates, person)\n",
    "long_covid_patients = a.sql_statement_08(covid_pasc_index_dates)\n",
    "\n",
    "hosp_cases = a.sql_statement_04(cohort, condition_occurrence, microvisits_to_macrovisits)\n",
    "\n",
    "hosp_and_non = a.sql_statement_06(cohort, hosp_cases)\n",
    "\n",
    "Feature_Table_Builder_v0 = a.sql_statement_03(covid_pasc_index_dates, hosp_and_non, microvisits_to_macrovisits)\n",
    "icu_visits = a.sql_statement_05(microvisits_to_macrovisits, concept) # empty for some reason\n",
    "inpatient_visits = a.sql_statement_07(microvisits_to_macrovisits, concept)\n",
    "\n",
    "tot_icu_days_calc = a.sql_statement_09(Feature_Table_Builder_v0, icu_visits)\n",
    "tot_ip_days_calc = a.sql_statement_10(Feature_Table_Builder_v0, inpatient_visits)\n",
    "\n",
    "Feature_Table_Builder = a.sql_statement_02(Feature_Table_Builder_v0, tot_icu_days_calc, tot_ip_days_calc)"
   ]
  },
  {
   "cell_type": "code",
   "execution_count": 6,
   "metadata": {},
   "outputs": [],
   "source": [
    "# 2_med_feature_table\n",
    "DrugConcepts = b.sql_statement_00(concept)\n",
    "Drugs_for_These_Patients = b.sql_statement_01(Feature_Table_Builder, drug_exposure)\n",
    "\n",
    "drugRollUp = b.sql_statement_04(DrugConcepts, Drugs_for_These_Patients)\n",
    "\n",
    "covid_drugs = b.sql_statement_02(Feature_Table_Builder, drugRollUp)\n",
    "pre_pre_drugs = b.sql_statement_10(Feature_Table_Builder, drugRollUp)\n",
    "pre_drugs = b.sql_statement_07(Feature_Table_Builder, drugRollUp)\n",
    "post_drugs = b.sql_statement_05(Feature_Table_Builder, drugRollUp)\n",
    "\n",
    "covidtbl = b.sql_statement_03(Feature_Table_Builder, covid_drugs, microvisits_to_macrovisits)\n",
    "prepretbl = b.sql_statement_11(Feature_Table_Builder, covid_drugs, microvisits_to_macrovisits)\n",
    "pretbl = b.sql_statement_12(Feature_Table_Builder, pre_pre_drugs, microvisits_to_macrovisits)\n",
    "posttbl = b.sql_statement_06(Feature_Table_Builder, post_drugs, microvisits_to_macrovisits)\n",
    "\n",
    "pre_post_med_count = b.sql_statement_08(covidtbl, posttbl, prepretbl, pretbl)\n",
    "\n",
    "pre_post_med_count_clean = b.sql_statement_09(Feature_Table_Builder, pre_post_med_count)"
   ]
  },
  {
   "cell_type": "code",
   "execution_count": 7,
   "metadata": {},
   "outputs": [
    {
     "data": {
      "text/plain": [
       "DataFrame[person_id: double, patient_group: string, ancestor_drug_concept_name: string, ancestor_drug_concept_id: int, pre_pre_med_count: bigint, pre_med_count: bigint, covid_med_count: bigint, post_med_count: bigint, apprx_age: int, sex: int, race: int, ethn: int, tot_long_data_days: bigint, op_post_visit_ratio: double, post_ip_visit_ratio: double, covid_ip_visit_ratio: double, post_icu_visit_ratio: double, covid_icu_visit_ratio: double]"
      ]
     },
     "execution_count": 7,
     "metadata": {},
     "output_type": "execute_result"
    }
   ],
   "source": [
    "pre_post_med_count_clean"
   ]
  },
  {
   "cell_type": "code",
   "execution_count": 8,
   "metadata": {},
   "outputs": [],
   "source": [
    "# 3_dx_feature_table\n",
    "pre_pre_condition = c.sql_statement_05(Feature_Table_Builder, condition_occurrence)\n",
    "pre_condition = c.sql_statement_03(Feature_Table_Builder, condition_occurrence)\n",
    "covid_condition = c.sql_statement_00(Feature_Table_Builder, condition_occurrence)\n",
    "post_condition = c.sql_statement_02(Feature_Table_Builder, condition_occurrence)\n",
    "\n",
    "four_windows_dx_counts = c.sql_statement_01(Feature_Table_Builder, microvisits_to_macrovisits, pre_pre_condition, pre_condition, covid_condition, post_condition)\n",
    "\n",
    "pre_post_dx_count_clean = c.sql_statement_04(Feature_Table_Builder, four_windows_dx_counts)\n"
   ]
  },
  {
   "cell_type": "code",
   "execution_count": 9,
   "metadata": {},
   "outputs": [],
   "source": [
    "# 4_lab_measure_table\n",
    "measure_person = d.measurement_person(measurement, Feature_Table_Builder, concept)\n",
    "pre_pre_measurement = d.sql_statement_05(Feature_Table_Builder, measure_person )\n",
    "\n",
    "pre_measurement = d.sql_statement_04( Feature_Table_Builder, measure_person )\n",
    "covid_measurement = d.sql_statement_00(Feature_Table_Builder, measure_person )\n",
    "post_measurement = d.sql_statement_03(Feature_Table_Builder, measure_person )\n",
    "\n",
    "four_windows_measure = d.sql_statement_01(covid_measurement, post_measurement, pre_measurement, pre_pre_measurement)\n",
    "\n",
    "lab_measures_clean = d.sql_statement_02(four_windows_measure)\n",
    "\n",
    "# 5_comorbidity_table\n",
    "high_level_condition_occur = e.sql_statement_01(Feature_Table_Builder, condition_occurrence, concept)\n",
    "\n",
    "comorbidity_counts = e.sql_statement_00(Feature_Table_Builder, high_level_condition_occur)"
   ]
  },
  {
   "cell_type": "code",
   "execution_count": 10,
   "metadata": {},
   "outputs": [],
   "source": [
    "# 6_covid_measures"
   ]
  },
  {
   "cell_type": "code",
   "execution_count": 11,
   "metadata": {},
   "outputs": [],
   "source": [
    "# 9_obs"
   ]
  },
  {
   "cell_type": "code",
   "execution_count": 12,
   "metadata": {},
   "outputs": [],
   "source": [
    "# i_combine"
   ]
  },
  {
   "cell_type": "code",
   "execution_count": 13,
   "metadata": {},
   "outputs": [
    {
     "ename": "NameError",
     "evalue": "name 'spark' is not defined",
     "output_type": "error",
     "traceback": [
      "\u001b[0;31m---------------------------------------------------------------------------\u001b[0m",
      "\u001b[0;31mNameError\u001b[0m                                 Traceback (most recent call last)",
      "\u001b[0;32m<ipython-input-13-f663fa23f212>\u001b[0m in \u001b[0;36m<module>\u001b[0;34m\u001b[0m\n\u001b[1;32m      1\u001b[0m \u001b[0mpre_post_med_final_distinct\u001b[0m \u001b[0;34m=\u001b[0m \u001b[0mi\u001b[0m\u001b[0;34m.\u001b[0m\u001b[0mpre_post_med_final_distinct\u001b[0m\u001b[0;34m(\u001b[0m\u001b[0mpre_post_med_count_clean\u001b[0m\u001b[0;34m)\u001b[0m\u001b[0;34m\u001b[0m\u001b[0;34m\u001b[0m\u001b[0m\n\u001b[0;32m----> 2\u001b[0;31m \u001b[0madd_labels\u001b[0m \u001b[0;34m=\u001b[0m \u001b[0mi\u001b[0m\u001b[0;34m.\u001b[0m\u001b[0madd_labels\u001b[0m\u001b[0;34m(\u001b[0m\u001b[0mpre_post_dx_count_clean\u001b[0m\u001b[0;34m,\u001b[0m \u001b[0mpre_post_med_count_clean\u001b[0m\u001b[0;34m,\u001b[0m \u001b[0mlong_covid_patients\u001b[0m\u001b[0;34m,\u001b[0m \u001b[0mFeature_Table_Builder\u001b[0m\u001b[0;34m)\u001b[0m\u001b[0;34m\u001b[0m\u001b[0;34m\u001b[0m\u001b[0m\n\u001b[0m\u001b[1;32m      3\u001b[0m \u001b[0;31m#--------------------------\u001b[0m\u001b[0;34m\u001b[0m\u001b[0;34m\u001b[0m\u001b[0;34m\u001b[0m\u001b[0m\n",
      "\u001b[0;32m~/Desktop/l3c_ctml/src/STEP1_feature/i_combine_synthetic_data.py\u001b[0m in \u001b[0;36madd_labels\u001b[0;34m(pre_post_dx_count_clean, pre_post_med_count_clean, long_covid_patients, Feature_table_builder)\u001b[0m\n\u001b[1;32m    221\u001b[0m \u001b[0;34m\u001b[0m\u001b[0m\n\u001b[1;32m    222\u001b[0m     \u001b[0;31m# encode these caterogical variables as binaries\u001b[0m\u001b[0;34m\u001b[0m\u001b[0;34m\u001b[0m\u001b[0;34m\u001b[0m\u001b[0m\n\u001b[0;32m--> 223\u001b[0;31m     \u001b[0mdf\u001b[0m \u001b[0;34m=\u001b[0m \u001b[0mpd\u001b[0m\u001b[0;34m.\u001b[0m\u001b[0mget_dummies\u001b[0m\u001b[0;34m(\u001b[0m\u001b[0mdf\u001b[0m\u001b[0;34m,\u001b[0m \u001b[0mcolumns\u001b[0m\u001b[0;34m=\u001b[0m\u001b[0;34m[\u001b[0m\u001b[0;34m\"sex\"\u001b[0m\u001b[0;34m,\u001b[0m\u001b[0;34m\"race\"\u001b[0m\u001b[0;34m,\u001b[0m\u001b[0;34m\"ethn\"\u001b[0m\u001b[0;34m]\u001b[0m\u001b[0;34m)\u001b[0m\u001b[0;34m\u001b[0m\u001b[0;34m\u001b[0m\u001b[0m\n\u001b[0m\u001b[1;32m    224\u001b[0m     \u001b[0mdf\u001b[0m \u001b[0;34m=\u001b[0m \u001b[0mdf\u001b[0m\u001b[0;34m.\u001b[0m\u001b[0mrename\u001b[0m\u001b[0;34m(\u001b[0m\u001b[0mcolumns\u001b[0m \u001b[0;34m=\u001b[0m \u001b[0;32mlambda\u001b[0m \u001b[0mc\u001b[0m\u001b[0;34m:\u001b[0m \u001b[0mstr\u001b[0m\u001b[0;34m.\u001b[0m\u001b[0mlower\u001b[0m\u001b[0;34m(\u001b[0m\u001b[0mc\u001b[0m\u001b[0;34m.\u001b[0m\u001b[0mreplace\u001b[0m\u001b[0;34m(\u001b[0m\u001b[0;34m\" \"\u001b[0m\u001b[0;34m,\u001b[0m \u001b[0;34m\"_\"\u001b[0m\u001b[0;34m)\u001b[0m\u001b[0;34m)\u001b[0m\u001b[0;34m)\u001b[0m\u001b[0;34m\u001b[0m\u001b[0;34m\u001b[0m\u001b[0m\n\u001b[1;32m    225\u001b[0m     \u001b[0mdf\u001b[0m \u001b[0;34m=\u001b[0m \u001b[0mspark\u001b[0m\u001b[0;34m.\u001b[0m\u001b[0mcreateDataFrame\u001b[0m\u001b[0;34m(\u001b[0m\u001b[0mdf\u001b[0m\u001b[0;34m)\u001b[0m \u001b[0;31m# convert pandas back to spark\u001b[0m\u001b[0;34m\u001b[0m\u001b[0;34m\u001b[0m\u001b[0m\n",
      "\u001b[0;31mNameError\u001b[0m: name 'spark' is not defined"
     ]
    }
   ],
   "source": [
    "pre_post_med_final_distinct = i.pre_post_med_final_distinct(pre_post_med_count_clean)\n",
    "add_labels = i.add_labels(pre_post_dx_count_clean, pre_post_med_count_clean, long_covid_patients, Feature_Table_Builder)\n",
    "#--------------------------"
   ]
  },
  {
   "cell_type": "code",
   "execution_count": null,
   "metadata": {},
   "outputs": [],
   "source": [
    "condition_rollup = i.condition_rollup(long_covid_patients, pre_post_dx_count_clean, concept)\n",
    "\n",
    "parent_condition_rollup = i.parent_condition_rollup(condition_rollup)\n",
    "\n",
    "final_rollups = i.final_rollups(condition_rollup, parent_condition_rollup)\n",
    "pre_post_more_in_dx_calc = i.pre_post_more_in_dx_calc(pre_post_dx_count_clean)\n",
    "\n",
    "add_alt_rollup = i.add_alt_rollup(final_rollups, pre_post_more_in_dx_calc)\n",
    "\n",
    "pre_post_dx_final = i.pre_post_dx_final(add_alt_rollup)\n",
    "#--------------------------"
   ]
  },
  {
   "cell_type": "code",
   "execution_count": null,
   "metadata": {},
   "outputs": [],
   "source": [
    "import pandas as pd\n",
    "import re\n",
    "\n",
    "from pyspark.sql import functions as F\n",
    "from pyspark.sql.types import IntegerType\n",
    "from pyspark.sql.types import *\n",
    "from pyspark.sql.functions import udf\n",
    "from pyspark.context import SparkContext\n",
    "ctx = SparkContext.getOrCreate()"
   ]
  },
  {
   "cell_type": "code",
   "execution_count": null,
   "metadata": {},
   "outputs": [],
   "source": [
    "\n"
   ]
  },
  {
   "cell_type": "code",
   "execution_count": null,
   "metadata": {},
   "outputs": [],
   "source": []
  },
  {
   "cell_type": "code",
   "execution_count": null,
   "metadata": {},
   "outputs": [],
   "source": [
    "\n",
    "\n"
   ]
  },
  {
   "cell_type": "code",
   "execution_count": null,
   "metadata": {},
   "outputs": [],
   "source": []
  },
  {
   "cell_type": "code",
   "execution_count": null,
   "metadata": {},
   "outputs": [],
   "source": []
  },
  {
   "cell_type": "code",
   "execution_count": null,
   "metadata": {},
   "outputs": [],
   "source": []
  }
 ],
 "metadata": {
  "kernelspec": {
   "display_name": "Python 3",
   "language": "python",
   "name": "python3"
  },
  "language_info": {
   "codemirror_mode": {
    "name": "ipython",
    "version": 3
   },
   "file_extension": ".py",
   "mimetype": "text/x-python",
   "name": "python",
   "nbconvert_exporter": "python",
   "pygments_lexer": "ipython3",
   "version": "3.8.8"
  }
 },
 "nbformat": 4,
 "nbformat_minor": 4
}
